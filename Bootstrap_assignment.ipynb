{
  "nbformat": 4,
  "nbformat_minor": 0,
  "metadata": {
    "colab": {
      "name": "Copy of Bootstrap_assignment.ipynb",
      "provenance": [],
      "collapsed_sections": []
    },
    "kernelspec": {
      "name": "python3",
      "display_name": "Python 3"
    }
  },
  "cells": [
    {
      "cell_type": "markdown",
      "metadata": {
        "id": "3sNKZq4XrXQh"
      },
      "source": [
        "# <font color='red'><b>Bootstrap assignment</b> </font>"
      ]
    },
    {
      "cell_type": "markdown",
      "metadata": {
        "id": "cuxBq_bvrwh2"
      },
      "source": [
        "<font color='blue'> <b>Importing packages</b> </font>"
      ]
    },
    {
      "cell_type": "code",
      "metadata": {
        "id": "m6ag91ijrQOs"
      },
      "source": [
        "import numpy as np # importing numpy for numerical computation\n",
        "from sklearn.datasets import load_boston # here we are using sklearn's boston dataset\n",
        "from sklearn.metrics import mean_squared_error # importing mean_squared_error metric"
      ],
      "execution_count": 71,
      "outputs": []
    },
    {
      "cell_type": "code",
      "metadata": {
        "id": "CcHOsONTt1K_"
      },
      "source": [
        "boston = load_boston()\n",
        "x=boston.data #independent variables\n",
        "y=boston.target #target variable"
      ],
      "execution_count": 72,
      "outputs": []
    },
    {
      "cell_type": "code",
      "metadata": {
        "id": "pc1htEFYuLRj",
        "colab": {
          "base_uri": "https://localhost:8080/"
        },
        "outputId": "99e563d2-c6b7-4bb0-8d67-9ce167286b3b"
      },
      "source": [
        "x.shape"
      ],
      "execution_count": 73,
      "outputs": [
        {
          "output_type": "execute_result",
          "data": {
            "text/plain": [
              "(506, 13)"
            ]
          },
          "metadata": {
            "tags": []
          },
          "execution_count": 73
        }
      ]
    },
    {
      "cell_type": "code",
      "metadata": {
        "colab": {
          "base_uri": "https://localhost:8080/"
        },
        "id": "CmKZjeN_a5sT",
        "outputId": "90e0a5e8-f5ec-4a69-d530-d96815f5fedb"
      },
      "source": [
        "y.shape"
      ],
      "execution_count": 74,
      "outputs": [
        {
          "output_type": "execute_result",
          "data": {
            "text/plain": [
              "(506,)"
            ]
          },
          "metadata": {
            "tags": []
          },
          "execution_count": 74
        }
      ]
    },
    {
      "cell_type": "markdown",
      "metadata": {
        "id": "V2fHTdS_zpgG"
      },
      "source": [
        "# <font color='blue'> <b>Task - 1</b></font>"
      ]
    },
    {
      "cell_type": "markdown",
      "metadata": {
        "id": "e0yGBuryOwHz"
      },
      "source": [
        "<font color='blue'><b>Step - 1</b></font>"
      ]
    },
    {
      "cell_type": "markdown",
      "metadata": {
        "id": "lJXX8vf3z073"
      },
      "source": [
        "*  <font color='blue'> <b>Creating samples</b></font>"
      ]
    },
    {
      "cell_type": "markdown",
      "metadata": {
        "id": "f_oWoN97BhDY"
      },
      "source": [
        "*  <font color='blue'><b> Code for generating samples</b></font>"
      ]
    },
    {
      "cell_type": "code",
      "metadata": {
        "id": "Ph_6D2SDzz7F"
      },
      "source": [
        "def generating_samples(input_data, target_data):\n",
        "\n",
        "    '''In this function, we will write code for generating 30 samples '''\n",
        "    # you can use random.choice to generate random indices without replacement\n",
        "    # Please have a look at this link https://docs.scipy.org/doc/numpy-1.16.0/reference/generated/numpy.random.choice.html for more details\n",
        "    # Please follow above pseudo code for generating samples \n",
        "    \n",
        "\n",
        "    # return sampled_input_data , sampled_target_data,selected_rows,selected_columns\n",
        "    #note please return as lists\n",
        "    rows = len(input_data)\n",
        "    cols = len(input_data[0])\n",
        "    #https://docs.scipy.org/doc/numpy-1.16.0/reference/generated/numpy.random.choice.html\n",
        "    row_indicies = np.random.choice(rows,303,replace=False)\n",
        "    replicated_row_indicies = np.random.choice(row_indicies,203)\n",
        "    size = np.random.randint(3,cols+1)\n",
        "    columns = np.random.choice(cols,size,replace=False)\n",
        "\n",
        "    sample_data = input_data[row_indicies[:,None],columns]\n",
        "    target_sample_data = target_data[row_indicies]\n",
        "\n",
        "    #replicating data\n",
        "    replicated_sample_data = input_data[replicated_row_indicies[:,None],columns]\n",
        "    target_replicated_sample_data = target_data[replicated_row_indicies]\n",
        "\n",
        "    #concatinating data\n",
        "    final_sample_data = np.vstack((sample_data,replicated_sample_data))\n",
        "    final_target_data = np.vstack((target_sample_data.reshape(-1,1),target_replicated_sample_data.reshape(-1,1)))\n",
        "\n",
        "    return final_sample_data,final_target_data,row_indicies,columns"
      ],
      "execution_count": 75,
      "outputs": []
    },
    {
      "cell_type": "markdown",
      "metadata": {
        "id": "MivEQFlm7iOg"
      },
      "source": [
        "<font color='cyan'> <b> Grader function - 1 </b> </font>"
      ]
    },
    {
      "cell_type": "code",
      "metadata": {
        "id": "AVvuhNzm7uld",
        "colab": {
          "base_uri": "https://localhost:8080/"
        },
        "outputId": "7677d724-df27-4f7d-9ad0-3a24c55af016"
      },
      "source": [
        "def grader_samples(a,b,c,d):\n",
        "    length = (len(a)==506  and len(b)==506)\n",
        "    sampled = (len(a)-len(set([str(i) for i in a]))==203)\n",
        "    rows_length = (len(c)==303)\n",
        "    column_length= (len(d)>=3)\n",
        "    assert(length and sampled and rows_length and column_length)\n",
        "    return True\n",
        "a,b,c,d = generating_samples(x, y)\n",
        "grader_samples(a,b,c,d)"
      ],
      "execution_count": 76,
      "outputs": [
        {
          "output_type": "execute_result",
          "data": {
            "text/plain": [
              "True"
            ]
          },
          "metadata": {
            "tags": []
          },
          "execution_count": 76
        }
      ]
    },
    {
      "cell_type": "markdown",
      "metadata": {
        "id": "b4LSsmn4Jn2_"
      },
      "source": [
        "*  <font color='blue'> <b>Create 30 samples </b>"
      ]
    },
    {
      "cell_type": "code",
      "metadata": {
        "id": "XXlKWjCcBvTk"
      },
      "source": [
        "# Use generating_samples function to create 30 samples \n",
        "# store the created samples in a list\n",
        "list_input_data =[]\n",
        "list_output_data =[]\n",
        "list_selected_row= []\n",
        "list_selected_columns=[]\n",
        "\n",
        "for i in range(0,30):\n",
        "    a,b,c,d =generating_samples(x,y)\n",
        "    list_input_data.append(a)\n",
        "    list_output_data.append(b)\n",
        "    list_selected_row.append(c)\n",
        "    list_selected_columns.append(d)"
      ],
      "execution_count": 77,
      "outputs": []
    },
    {
      "cell_type": "markdown",
      "metadata": {
        "id": "MXUz9VFiMQkh"
      },
      "source": [
        "<font color='cyan'> <b>Grader function - 2 </b></font>"
      ]
    },
    {
      "cell_type": "code",
      "metadata": {
        "id": "hCvIq8NuMWOC",
        "colab": {
          "base_uri": "https://localhost:8080/"
        },
        "outputId": "ef8c70ba-5436-41a6-f18f-14225f7f182d"
      },
      "source": [
        "def grader_30(a):\n",
        "    assert(len(a)==30 and len(a[0])==506)\n",
        "    return True\n",
        "grader_30(list_input_data)"
      ],
      "execution_count": 78,
      "outputs": [
        {
          "output_type": "execute_result",
          "data": {
            "text/plain": [
              "True"
            ]
          },
          "metadata": {
            "tags": []
          },
          "execution_count": 78
        }
      ]
    },
    {
      "cell_type": "markdown",
      "metadata": {
        "id": "7Pv-mkZkO6dh"
      },
      "source": [
        "<br>"
      ]
    },
    {
      "cell_type": "markdown",
      "metadata": {
        "id": "whaHCPB0O8qF"
      },
      "source": [
        "<font color='red'><b>Step - 2 </b></font>"
      ]
    },
    {
      "cell_type": "markdown",
      "metadata": {
        "id": "WRwPO_uHQjul"
      },
      "source": [
        "*  <font color='blue'><b> Code for building regression trees</b></font>"
      ]
    },
    {
      "cell_type": "code",
      "metadata": {
        "id": "YWQp6tRwMthq"
      },
      "source": [
        "from sklearn.tree import DecisionTreeRegressor\n",
        "models_list = []\n",
        "\n",
        "for i in range(0,30):\n",
        "    model_i = DecisionTreeRegressor()\n",
        "    model_i.fit(list_input_data[i],list_output_data[i])\n",
        "\n",
        "    #storing all the trained models in a list\n",
        "    models_list.append(model_i)"
      ],
      "execution_count": 79,
      "outputs": []
    },
    {
      "cell_type": "markdown",
      "metadata": {
        "id": "TnIMT7_oR312"
      },
      "source": [
        "*  <font color='blue'><b> Code for calculating MSE</b></font>"
      ]
    },
    {
      "cell_type": "code",
      "metadata": {
        "id": "b1JirL-NV--4"
      },
      "source": [
        "def compute_mse():\n",
        "    y_pred = []\n",
        "    for i,p in enumerate(x):\n",
        "        models_y_pred = []\n",
        "        for j,model in enumerate(models_list):\n",
        "            pred = model.predict(p[list_selected_columns[j]].reshape(1,-1))\n",
        "            models_y_pred.append(pred)\n",
        "        y_pred.append(np.median(models_y_pred))\n",
        "\n",
        "    mse =  mean_squared_error(y,y_pred)\n",
        "    return mse"
      ],
      "execution_count": 80,
      "outputs": []
    },
    {
      "cell_type": "code",
      "metadata": {
        "colab": {
          "base_uri": "https://localhost:8080/"
        },
        "id": "G5iSOIkstXDE",
        "outputId": "09ddad33-7d90-44ee-8dae-a32c1ca00685"
      },
      "source": [
        "mse = compute_mse()\n",
        "print(mse)"
      ],
      "execution_count": 81,
      "outputs": [
        {
          "output_type": "stream",
          "text": [
            "0.02918478260869561\n"
          ],
          "name": "stdout"
        }
      ]
    },
    {
      "cell_type": "markdown",
      "metadata": {
        "id": "RuclPDMnSz8F"
      },
      "source": [
        "<font color='blue'><b>Step - 3 </b></font>"
      ]
    },
    {
      "cell_type": "markdown",
      "metadata": {
        "id": "zBqcS03pUYSZ"
      },
      "source": [
        "*  <font color='blue'><b> Code for calculating OOB score </b></font>"
      ]
    },
    {
      "cell_type": "code",
      "metadata": {
        "id": "Fog_6DNdS-h_"
      },
      "source": [
        "def compute_oob_score():\n",
        "    y_pred = []\n",
        "    for i,p in enumerate(x):\n",
        "        models_y_pred = []\n",
        "        for j,model in enumerate(models_list):\n",
        "            if i not in list_selected_row[j]:\n",
        "                pred = model.predict(p[list_selected_columns[j]].reshape(1,-1))\n",
        "                models_y_pred.append(pred)\n",
        "        y_pred.append(np.median(models_y_pred))\n",
        "\n",
        "    oob_score =  mean_squared_error(y,y_pred)\n",
        "    return oob_score"
      ],
      "execution_count": 82,
      "outputs": []
    },
    {
      "cell_type": "code",
      "metadata": {
        "colab": {
          "base_uri": "https://localhost:8080/"
        },
        "id": "3VWDN8ejsn0m",
        "outputId": "82444a99-8597-48a2-9b01-02a403696e7b"
      },
      "source": [
        "oob_score = compute_oob_score()\n",
        "print(oob_score)"
      ],
      "execution_count": 83,
      "outputs": [
        {
          "output_type": "stream",
          "text": [
            "10.880513833992095\n"
          ],
          "name": "stdout"
        }
      ]
    },
    {
      "cell_type": "markdown",
      "metadata": {
        "id": "sbuiwX3OUjUI"
      },
      "source": [
        "# <font color='blue'><b>Task 2</b></font>"
      ]
    },
    {
      "cell_type": "code",
      "metadata": {
        "id": "ceW5-D88Uswi"
      },
      "source": [
        "from sklearn.tree import DecisionTreeRegressor\n",
        "list_mse = []\n",
        "list_oob_score = []\n",
        "for i in range(0,35):\n",
        "    # Use generating_samples function to create 30 samples \n",
        "    # store the created samples in a list\n",
        "    list_input_data =[]\n",
        "    list_output_data =[]\n",
        "    list_selected_row= []\n",
        "    list_selected_columns=[]\n",
        "\n",
        "    for i in range(0,30):\n",
        "        a,b,c,d =generating_samples(x,y)\n",
        "        list_input_data.append(a)\n",
        "        list_output_data.append(b)\n",
        "        list_selected_row.append(c)\n",
        "        list_selected_columns.append(d)\n",
        "\n",
        "    \n",
        "    models_list = []\n",
        "\n",
        "    for i in range(0,30):\n",
        "        model_i = DecisionTreeRegressor()\n",
        "        model_i.fit(list_input_data[i],list_output_data[i])\n",
        "\n",
        "        #storing all the trained models in a list\n",
        "        models_list.append(model_i)\n",
        "\n",
        "\n",
        "    mse = compute_mse()\n",
        "    oob_score = compute_oob_score()\n",
        "    list_mse.append(mse)\n",
        "    list_oob_score.append(oob_score)"
      ],
      "execution_count": 84,
      "outputs": []
    },
    {
      "cell_type": "code",
      "metadata": {
        "colab": {
          "base_uri": "https://localhost:8080/"
        },
        "id": "AgCwu5B-VyeZ",
        "outputId": "d20d89ee-20ae-4100-c164-d8acd800a4a1"
      },
      "source": [
        "#calculating the mean of all the elements in list mse and list oob score\n",
        "mean_mse = round(sum(list_mse)/len(list_mse),3)\n",
        "#print(mean_mse)\n",
        "mean_oob_score =  round(sum(list_oob_score)/len(list_oob_score),3)\n",
        "#print(mean_oob_score)\n",
        "\n",
        "\n",
        "#calculating the standard error of mean\n",
        "sem_mse = round(np.std(list_mse)/len(list_mse)**0.5,3)\n",
        "#print(sem_mse)\n",
        "sem_oob_score = round(np.std(list_oob_score)/len(list_oob_score)**0.5,3)\n",
        "#print(sem_oob_score)\n",
        "\n",
        "\n",
        "#Calculating the confidence intravel of MSE\n",
        "print(\"The confidence intravel of MSE is\", (mean_mse - 2*sem_mse,mean_mse + 2*sem_mse))\n",
        "#Calculating the confidence intravel of oob SCORE\n",
        "print(\"The confidence intravel of OOB SCORE is\",(mean_oob_score - 2*sem_oob_score,mean_oob_score + 2*sem_oob_score))"
      ],
      "execution_count": 87,
      "outputs": [
        {
          "output_type": "stream",
          "text": [
            "The confidence intravel of MSE is (0.051, 0.099)\n",
            "The confidence intravel of OOB SCORE is (13.146999999999998, 14.471)\n"
          ],
          "name": "stdout"
        }
      ]
    },
    {
      "cell_type": "markdown",
      "metadata": {
        "id": "jKTnJdiBVS_e"
      },
      "source": [
        "# <font color='blue'><b>Task 3</b></font>"
      ]
    },
    {
      "cell_type": "code",
      "metadata": {
        "id": "i_pUlSD-VYD1",
        "colab": {
          "base_uri": "https://localhost:8080/"
        },
        "outputId": "f8ec7d9a-26fc-4f93-ccaa-514af5c1ddf3"
      },
      "source": [
        "xq= np.array([0.18,20.0,5.00,0.0,0.421,5.60,72.2,7.95,7.0,30.0,19.1,372.13,18.60])\n",
        "models_y_pred = []\n",
        "for i,model in enumerate(models_list):\n",
        "    pred = model.predict(xq[list_selected_columns[i]].reshape(1,-1))\n",
        "    models_y_pred.append(pred)\n",
        "y_pred = np.median(models_y_pred)\n",
        "print(\"The price of the house would be\", y_pred)"
      ],
      "execution_count": 86,
      "outputs": [
        {
          "output_type": "stream",
          "text": [
            "The price of the house would be 18.5\n"
          ],
          "name": "stdout"
        }
      ]
    },
    {
      "cell_type": "markdown",
      "metadata": {
        "id": "3cz30Gkc_7mw"
      },
      "source": [
        "<h2><b> Observations</b></h2>\n",
        "\n",
        "<h4> Task-1 :</h4>\n",
        "\n",
        "1. Since we are getting a very low MSE value therefore we can say the model is making near to perfect prediction.\n",
        "2. The oob_score avoids the problem of data leakage hence ensuring a better predictive model. And since there is no leakage, so there is no overfitting of data hence least variance.\n",
        "\n",
        "<h4> Task-2 :</h4>\n",
        "\n",
        "1. The confidence intravel for MSE is (0.051, 0.099) which means that we can be 95% confident that the mse values will be within this range.\n",
        "2. The confidence intravel for OOB SCORE is (13.146999999999998, 14.471) which means that we can be 95% confident that the oob_score values will be within this range.\n",
        "\n",
        "<h4> Task-3 :</h4>\n",
        "\n",
        "1. Here given the query point we are predicting the price of the house passing the query point through all the models and calculating the median of the all the predicted values from the all the models.\n",
        "\n",
        "\n",
        "\n",
        "\n"
      ]
    }
  ]
}